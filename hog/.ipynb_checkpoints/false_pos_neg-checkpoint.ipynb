{
 "cells": [
  {
   "cell_type": "code",
   "execution_count": null,
   "metadata": {},
   "outputs": [],
   "source": [
    "import os\n",
    "import cv2\n",
    "import random\n",
    "from glob import glob\n",
    "import numpy as np\n",
    "from skimage.feature import hog\n",
    "from logistic_prob import logistic_prob\n",
    "from logistic_predict import logistic_predict"
   ]
  },
  {
   "cell_type": "code",
   "execution_count": null,
   "metadata": {},
   "outputs": [],
   "source": [
    "def get_false(n, orientations):\n",
    "    \"\"\"Uses saved model to test randomly sampled patches in nonfaces, and\n",
    "    save the false positives.\n",
    "\n",
    "    Args:\n",
    "        orientations: the number of HoG gradient orientations to use\n",
    "        wrap180: if true, the HoG orientations cover 180 degrees, else 360\n",
    "\n",
    "    Returns:\n",
    "        descriptors: matrix of descriptors for all 2*n training examples, where\n",
    "                     each row contains the HoG descriptor for one face or nonface\n",
    "        classes: vector indicating whether each example is a face (1) or nonface (0)\n",
    "    \"\"\"\n",
    "    hog_input_size = 36\n",
    "    hog_descriptor_size = 100 * orientations\n",
    "    saved = np.load('face_classifier_hard.npz')\n",
    "    params, orientations, wrap180 = saved['params'], saved['orientations'], saved['wrap180']\n",
    "    nonfaces_dir = '../data/training_nonfaces'\n",
    "\n",
    "    # Get the filenames within the training faces directory\n",
    "    nonface_filenames = sorted(glob(os.path.join(nonfaces_dir, '*.jpg')))\n",
    "    num_nonface_filenames = len(nonface_filenames)\n",
    "\n",
    "    # directory to save images\n",
    "    folder_name = \"../data/false_pos/\"\n",
    "\n",
    "    # Loop over images\n",
    "    count = 0\n",
    "    while count < n:\n",
    "        # Read a random nonface file\n",
    "        j = random.randint(0, num_nonface_filenames - 1)\n",
    "        nonface = cv2.imread(nonface_filenames[j], cv2.IMREAD_GRAYSCALE)\n",
    "\n",
    "        # Crop out a random square at least hog_input_size\n",
    "        k = random.randint(hog_input_size, min(nonface.shape))\n",
    "        row = random.randint(0, nonface.shape[0] - k)\n",
    "        col = random.randint(0, nonface.shape[1] - k)\n",
    "        crop = nonface[row:row+k , col:col+k]\n",
    "\n",
    "        # Resize to be the right size\n",
    "        crop = cv2.resize(crop, (hog_input_size, hog_input_size))\n",
    "\n",
    "        # Compute descriptor and calculated model probability\n",
    "        descriptor = np.zeros(hog_descriptor_size + 1)\n",
    "        hog = hog(crop, orientations, pixels_per_cell=(6, 6), cells_per_block=(2, 2))\n",
    "\n",
    "        descriptor[0] = 1\n",
    "        descriptor[1:] = hog\n",
    "        prob = logistic_prob(descriptor, params)\n",
    "        predicted = logistic_predict(descriptor, params)\n",
    "        if predicted != 0:\n",
    "            print(count)\n",
    "            # save image\n",
    "            name = \"hard_\" + str(count) + '.jpg'\n",
    "            cv2.imwrite(os.path.join(folder_name, name), crop)\n",
    "            count += 1"
   ]
  }
 ],
 "metadata": {
  "kernelspec": {
   "display_name": "Python 3",
   "language": "python",
   "name": "python3"
  },
  "language_info": {
   "codemirror_mode": {
    "name": "ipython",
    "version": 3
   },
   "file_extension": ".py",
   "mimetype": "text/x-python",
   "name": "python",
   "nbconvert_exporter": "python",
   "pygments_lexer": "ipython3",
   "version": "3.7.4"
  }
 },
 "nbformat": 4,
 "nbformat_minor": 2
}
