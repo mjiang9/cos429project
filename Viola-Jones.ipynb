{
 "cells": [
  {
   "cell_type": "code",
   "execution_count": 1,
   "metadata": {},
   "outputs": [],
   "source": [
    "import os\n",
    "import cv2\n",
    "from time import time\n",
    "import numpy as np\n",
    "import matplotlib.pyplot as plt\n",
    "from glob import glob\n",
    "import random\n",
    "from dask import delayed"
   ]
  },
  {
   "cell_type": "code",
   "execution_count": 2,
   "metadata": {},
   "outputs": [],
   "source": [
    "from sklearn.ensemble import RandomForestClassifier\n",
    "from sklearn.model_selection import train_test_split\n",
    "from sklearn.metrics import roc_auc_score\n",
    "from sklearn.linear_model import LogisticRegression"
   ]
  },
  {
   "cell_type": "code",
   "execution_count": 3,
   "metadata": {},
   "outputs": [],
   "source": [
    "from skimage.transform import integral_image\n",
    "from skimage.feature import haar_like_feature\n",
    "from skimage.feature import haar_like_feature_coord\n",
    "from skimage.feature import draw_haar_like_feature"
   ]
  },
  {
   "cell_type": "code",
   "execution_count": 7,
   "metadata": {},
   "outputs": [],
   "source": [
    "from logistic import logistic_fit, logistic, logistic_prob"
   ]
  },
  {
   "cell_type": "code",
   "execution_count": 4,
   "metadata": {},
   "outputs": [],
   "source": [
    "import dill"
   ]
  },
  {
   "cell_type": "code",
   "execution_count": null,
   "metadata": {},
   "outputs": [],
   "source": [
    "dill.dump_session('notebook_env.db')"
   ]
  },
  {
   "cell_type": "code",
   "execution_count": 5,
   "metadata": {},
   "outputs": [
    {
     "data": {
      "text/plain": [
       "111053.47970986366"
      ]
     },
     "execution_count": 5,
     "metadata": {},
     "output_type": "execute_result"
    }
   ],
   "source": [
    "t_start = time()\n",
    "dill.load_session('notebook_env.db')\n",
    "time() - t_start"
   ]
  },
  {
   "cell_type": "markdown",
   "metadata": {},
   "source": [
    "# Get filenames"
   ]
  },
  {
   "cell_type": "markdown",
   "metadata": {},
   "source": [
    "## Testing data"
   ]
  },
  {
   "cell_type": "code",
   "execution_count": 8,
   "metadata": {},
   "outputs": [],
   "source": [
    "test_face_names = sorted(glob(os.path.join('data/tests', '*.jpg')))\n",
    "n_test = len(test_face_names)"
   ]
  },
  {
   "cell_type": "code",
   "execution_count": 26,
   "metadata": {},
   "outputs": [],
   "source": [
    "b_inds = []\n",
    "w_inds = []\n",
    "for i in range(len(test_face_names)):\n",
    "    if int(test_face_names[i].split('_')[2]) is 0: # race is white\n",
    "        w_inds.append(i)\n",
    "    else:\n",
    "        b_inds.append(i)"
   ]
  },
  {
   "cell_type": "code",
   "execution_count": 17,
   "metadata": {},
   "outputs": [],
   "source": [
    "test_nonface_names = sorted(glob(os.path.join('data/testing_nonfaces', '*.jpg')))\n",
    "n_nonfaces_test = len(test_nonface_names)"
   ]
  },
  {
   "cell_type": "code",
   "execution_count": 16,
   "metadata": {},
   "outputs": [],
   "source": [
    "faces_t = []\n",
    "for i in range(n_test):\n",
    "    faces_t.append(cv2.imread(test_face_names[i], cv2.IMREAD_GRAYSCALE))"
   ]
  },
  {
   "cell_type": "code",
   "execution_count": 20,
   "metadata": {},
   "outputs": [],
   "source": [
    "nonfaces_t = []\n",
    "for i in range(n_test):\n",
    "    # Read a random nonface file\n",
    "    j = random.randint(0, n_nonfaces_test - 1)\n",
    "    nonface = cv2.imread(test_nonface_names[j], cv2.IMREAD_GRAYSCALE)\n",
    "    \n",
    "    wsize = random.randint(36, min(nonface.shape[0], nonface.shape[1]))\n",
    "    row = random.randint(0, nonface.shape[0]-wsize)\n",
    "    col = random.randint(0, nonface.shape[1]-wsize)\n",
    "    crop = nonface[row:row+wsize, col:col+wsize]\n",
    "\n",
    "    # Resize to be the right size\n",
    "    crop = cv2.resize(crop, (200, 200))\n",
    "    nonfaces_t.append(crop)"
   ]
  },
  {
   "cell_type": "code",
   "execution_count": 27,
   "metadata": {},
   "outputs": [
    {
     "data": {
      "text/plain": [
       "600"
      ]
     },
     "execution_count": 27,
     "metadata": {},
     "output_type": "execute_result"
    }
   ],
   "source": [
    "images_t = faces_t + nonfaces_t\n",
    "len(images_t)"
   ]
  },
  {
   "cell_type": "markdown",
   "metadata": {},
   "source": [
    "## Training data"
   ]
  },
  {
   "cell_type": "code",
   "execution_count": 11,
   "metadata": {},
   "outputs": [
    {
     "data": {
      "text/plain": [
       "4020"
      ]
     },
     "execution_count": 11,
     "metadata": {},
     "output_type": "execute_result"
    }
   ],
   "source": [
    "face_filenames0 = sorted(glob(os.path.join('data/train_0', '*.jpg')))\n",
    "num_face_filenames0 = len(face_filenames0)\n",
    "num_face_filenames0"
   ]
  },
  {
   "cell_type": "code",
   "execution_count": 49,
   "metadata": {},
   "outputs": [
    {
     "data": {
      "text/plain": [
       "4020"
      ]
     },
     "execution_count": 49,
     "metadata": {},
     "output_type": "execute_result"
    }
   ],
   "source": [
    "face_filenames25 = sorted(glob(os.path.join('data/train_25', '*.jpg')))\n",
    "num_face_filenames25 = len(face_filenames25)\n",
    "num_face_filenames25"
   ]
  },
  {
   "cell_type": "code",
   "execution_count": 50,
   "metadata": {},
   "outputs": [
    {
     "data": {
      "text/plain": [
       "4020"
      ]
     },
     "execution_count": 50,
     "metadata": {},
     "output_type": "execute_result"
    }
   ],
   "source": [
    "face_filenames50 = sorted(glob(os.path.join('data/train_50', '*.jpg')))\n",
    "num_face_filenames50 = len(face_filenames50)\n",
    "num_face_filenames50"
   ]
  },
  {
   "cell_type": "code",
   "execution_count": 51,
   "metadata": {},
   "outputs": [
    {
     "data": {
      "text/plain": [
       "4020"
      ]
     },
     "execution_count": 51,
     "metadata": {},
     "output_type": "execute_result"
    }
   ],
   "source": [
    "face_filenames75 = sorted(glob(os.path.join('data/train_75', '*.jpg')))\n",
    "num_face_filenames75 = len(face_filenames75)\n",
    "num_face_filenames75"
   ]
  },
  {
   "cell_type": "code",
   "execution_count": 52,
   "metadata": {},
   "outputs": [
    {
     "data": {
      "text/plain": [
       "4020"
      ]
     },
     "execution_count": 52,
     "metadata": {},
     "output_type": "execute_result"
    }
   ],
   "source": [
    "face_filenames100 = sorted(glob(os.path.join('data/train_100', '*.jpg')))\n",
    "num_face_filenames100 = len(face_filenames100)\n",
    "num_face_filenames100"
   ]
  },
  {
   "cell_type": "code",
   "execution_count": 33,
   "metadata": {},
   "outputs": [
    {
     "data": {
      "text/plain": [
       "4020"
      ]
     },
     "execution_count": 33,
     "metadata": {},
     "output_type": "execute_result"
    }
   ],
   "source": [
    "count = 0\n",
    "for f in face_filenames0:\n",
    "    if int(f.split('_')[3]) is 0: # race is white\n",
    "        count += 1\n",
    "count"
   ]
  },
  {
   "cell_type": "code",
   "execution_count": 12,
   "metadata": {},
   "outputs": [
    {
     "data": {
      "text/plain": [
       "250"
      ]
     },
     "execution_count": 12,
     "metadata": {},
     "output_type": "execute_result"
    }
   ],
   "source": [
    "nonface_filenames = sorted(glob(os.path.join('data/training_nonfaces', '*.jpg')))\n",
    "num_nonface_filenames = len(nonface_filenames)\n",
    "num_nonface_filenames"
   ]
  },
  {
   "cell_type": "code",
   "execution_count": 38,
   "metadata": {},
   "outputs": [],
   "source": [
    "n = 300"
   ]
  },
  {
   "cell_type": "code",
   "execution_count": 40,
   "metadata": {},
   "outputs": [],
   "source": [
    "nonfaces = []\n",
    "for i in range(n):\n",
    "    # Read a random nonface file\n",
    "    j = random.randint(0, num_nonface_filenames - 1)\n",
    "    nonface = cv2.imread(nonface_filenames[j], cv2.IMREAD_GRAYSCALE)\n",
    "    \n",
    "    wsize = random.randint(50, min(nonface.shape[0], nonface.shape[1]))\n",
    "    row = random.randint(0, nonface.shape[0]-wsize)\n",
    "    col = random.randint(0, nonface.shape[1]-wsize)\n",
    "    crop = nonface[row:row+wsize, col:col+wsize]\n",
    "\n",
    "    # Resize to be the right size\n",
    "    crop = cv2.resize(crop, (200, 200))\n",
    "    nonfaces.append(crop)"
   ]
  },
  {
   "cell_type": "code",
   "execution_count": 67,
   "metadata": {},
   "outputs": [],
   "source": [
    "def proportion_b(facenames):\n",
    "    count = 0\n",
    "    for i in range(n):\n",
    "        if int(facenames[i].split('_')[3]) == 0:\n",
    "            count += 1\n",
    "    return count / n"
   ]
  },
  {
   "cell_type": "code",
   "execution_count": 71,
   "metadata": {},
   "outputs": [
    {
     "name": "stdout",
     "output_type": "stream",
     "text": [
      "1.0\n",
      "0.83\n",
      "0.5966666666666667\n",
      "0.31\n",
      "0.0\n"
     ]
    }
   ],
   "source": [
    "for f in [face_filenames0, face_filenames25, face_filenames50, face_filenames75, face_filenames100]:\n",
    "    print(proportion_b(f))"
   ]
  },
  {
   "cell_type": "code",
   "execution_count": 55,
   "metadata": {},
   "outputs": [],
   "source": [
    "def getimgs(facefiles):\n",
    "    faces = []\n",
    "    for i in range(n):\n",
    "        faces.append(cv2.imread(facefiles[i], cv2.IMREAD_GRAYSCALE))\n",
    "    return faces + nonfaces"
   ]
  },
  {
   "cell_type": "code",
   "execution_count": 39,
   "metadata": {},
   "outputs": [],
   "source": [
    "faces0 = []\n",
    "for i in range(n):\n",
    "    faces0.append(cv2.imread(face_filenames0[i], cv2.IMREAD_GRAYSCALE))"
   ]
  },
  {
   "cell_type": "markdown",
   "metadata": {},
   "source": [
    "# Extract Haar features"
   ]
  },
  {
   "cell_type": "code",
   "execution_count": 24,
   "metadata": {},
   "outputs": [],
   "source": [
    "@delayed\n",
    "def extract_feature_image(img, feature_type, feature_coord=None):\n",
    "    \"\"\"Extract the haar feature for the current image\"\"\"\n",
    "    img = cv2.resize(img, (36,36))\n",
    "    ii = integral_image(img)\n",
    "    return haar_like_feature(ii, 0, 0, ii.shape[0], ii.shape[1],\n",
    "                             feature_type=feature_type,\n",
    "                             feature_coord=feature_coord)"
   ]
  },
  {
   "cell_type": "code",
   "execution_count": 58,
   "metadata": {},
   "outputs": [
    {
     "data": {
      "text/plain": [
       "126.29814195632935"
      ]
     },
     "execution_count": 58,
     "metadata": {},
     "output_type": "execute_result"
    }
   ],
   "source": [
    "X = delayed(extract_feature_image(img, feature_types) for img in images[:20])\n",
    "# Compute the result\n",
    "t_start = time()\n",
    "X = np.array(X.compute(scheduler='threads'))\n",
    "time() - t_start"
   ]
  },
  {
   "cell_type": "code",
   "execution_count": 60,
   "metadata": {},
   "outputs": [
    {
     "data": {
      "text/plain": [
       "(20, 430920)"
      ]
     },
     "execution_count": 60,
     "metadata": {},
     "output_type": "execute_result"
    }
   ],
   "source": [
    "X.shape"
   ]
  },
  {
   "cell_type": "code",
   "execution_count": 41,
   "metadata": {},
   "outputs": [
    {
     "data": {
      "text/plain": [
       "600"
      ]
     },
     "execution_count": 41,
     "metadata": {},
     "output_type": "execute_result"
    }
   ],
   "source": [
    "images0 = faces0 + nonfaces\n",
    "len(images0)"
   ]
  },
  {
   "cell_type": "code",
   "execution_count": 29,
   "metadata": {},
   "outputs": [],
   "source": [
    "image0 = cv2.resize(images0[0], (36,36))"
   ]
  },
  {
   "cell_type": "code",
   "execution_count": 30,
   "metadata": {},
   "outputs": [
    {
     "data": {
      "text/plain": [
       "<matplotlib.image.AxesImage at 0x1c2bf47990>"
      ]
     },
     "execution_count": 30,
     "metadata": {},
     "output_type": "execute_result"
    },
    {
     "data": {
      "image/png": "[encoded data removed]",
      "text/plain": [
       "<Figure size 432x288 with 1 Axes>"
      ]
     },
     "metadata": {
      "needs_background": "light"
     },
     "output_type": "display_data"
    }
   ],
   "source": [
    "plt.imshow(image0, cmap='gray')"
   ]
  },
  {
   "cell_type": "code",
   "execution_count": 31,
   "metadata": {},
   "outputs": [
    {
     "data": {
      "text/plain": [
       "58.41193127632141"
      ]
     },
     "execution_count": 31,
     "metadata": {},
     "output_type": "execute_result"
    }
   ],
   "source": [
    "t = time()\n",
    "image0_ = draw_haar_like_feature(integral_image(image0), 0, 0,\n",
    "                                 36,36, \n",
    "                                 haar_like_feature_coord(36,36,feature_type=['type-2-x', 'type-2-y'])[0])\n",
    "time() - t"
   ]
  },
  {
   "cell_type": "code",
   "execution_count": 34,
   "metadata": {},
   "outputs": [
    {
     "data": {
      "text/plain": [
       "(36, 36, 3)"
      ]
     },
     "execution_count": 34,
     "metadata": {},
     "output_type": "execute_result"
    }
   ],
   "source": [
    "image0_.shape"
   ]
  },
  {
   "cell_type": "code",
   "execution_count": 32,
   "metadata": {},
   "outputs": [],
   "source": [
    "feature_types = ['type-2-x', 'type-2-y']"
   ]
  },
  {
   "cell_type": "markdown",
   "metadata": {},
   "source": [
    "## testing X"
   ]
  },
  {
   "cell_type": "code",
   "execution_count": 35,
   "metadata": {},
   "outputs": [
    {
     "data": {
      "text/plain": [
       "5408.295030117035"
      ]
     },
     "execution_count": 35,
     "metadata": {},
     "output_type": "execute_result"
    }
   ],
   "source": [
    "# Build a computation graph using Dask. This allows the use of multiple\n",
    "# CPU cores later during the actual computation\n",
    "X_t = delayed(extract_feature_image(img, feature_types) for img in images_t)\n",
    "# Compute the result\n",
    "t_start = time()\n",
    "X_t = np.array(X_t.compute(scheduler='threads'))\n",
    "time() - t_start"
   ]
  },
  {
   "cell_type": "code",
   "execution_count": 33,
   "metadata": {},
   "outputs": [],
   "source": [
    "y_t = np.array([1] * n_test + [0] * n_test)"
   ]
  },
  {
   "cell_type": "code",
   "execution_count": 36,
   "metadata": {},
   "outputs": [],
   "source": [
    "dill.dump_session('notebook_env.db')"
   ]
  },
  {
   "cell_type": "markdown",
   "metadata": {},
   "source": [
    "## training X"
   ]
  },
  {
   "cell_type": "code",
   "execution_count": 42,
   "metadata": {},
   "outputs": [
    {
     "data": {
      "text/plain": [
       "600"
      ]
     },
     "execution_count": 42,
     "metadata": {},
     "output_type": "execute_result"
    }
   ],
   "source": [
    "len(images0)"
   ]
  },
  {
   "cell_type": "code",
   "execution_count": 43,
   "metadata": {},
   "outputs": [
    {
     "data": {
      "text/plain": [
       "6365.775489807129"
      ]
     },
     "execution_count": 43,
     "metadata": {},
     "output_type": "execute_result"
    }
   ],
   "source": [
    "# Build a computation graph using Dask. This allows the use of multiple\n",
    "# CPU cores later during the actual computation\n",
    "X = delayed(extract_feature_image(img, feature_types) for img in images0)\n",
    "# Compute the result\n",
    "t_start = time()\n",
    "X = np.array(X.compute(scheduler='threads'))\n",
    "time() - t_start"
   ]
  },
  {
   "cell_type": "code",
   "execution_count": 53,
   "metadata": {},
   "outputs": [],
   "source": [
    "X0 = X"
   ]
  },
  {
   "cell_type": "code",
   "execution_count": 59,
   "metadata": {},
   "outputs": [],
   "source": [
    "def getx(facefiles):\n",
    "    ims = getimgs(facefiles)\n",
    "    X = delayed(extract_feature_image(img, feature_types) for img in ims)\n",
    "    return np.array(X.compute(scheduler='threads'))"
   ]
  },
  {
   "cell_type": "code",
   "execution_count": 60,
   "metadata": {},
   "outputs": [
    {
     "data": {
      "text/plain": [
       "8617.74287700653"
      ]
     },
     "execution_count": 60,
     "metadata": {},
     "output_type": "execute_result"
    }
   ],
   "source": [
    "t_start = time()\n",
    "X25 = getx(face_filenames25)\n",
    "time() - t_start"
   ]
  },
  {
   "cell_type": "code",
   "execution_count": 61,
   "metadata": {},
   "outputs": [
    {
     "data": {
      "text/plain": [
       "9534.854122877121"
      ]
     },
     "execution_count": 61,
     "metadata": {},
     "output_type": "execute_result"
    }
   ],
   "source": [
    "t_start = time()\n",
    "X50 = getx(face_filenames50)\n",
    "time() - t_start"
   ]
  },
  {
   "cell_type": "code",
   "execution_count": 62,
   "metadata": {},
   "outputs": [
    {
     "data": {
      "text/plain": [
       "7341.787719964981"
      ]
     },
     "execution_count": 62,
     "metadata": {},
     "output_type": "execute_result"
    }
   ],
   "source": [
    "t_start = time()\n",
    "X75 = getx(face_filenames75)\n",
    "time() - t_start"
   ]
  },
  {
   "cell_type": "code",
   "execution_count": 63,
   "metadata": {},
   "outputs": [
    {
     "data": {
      "text/plain": [
       "8270.294086933136"
      ]
     },
     "execution_count": 63,
     "metadata": {},
     "output_type": "execute_result"
    }
   ],
   "source": [
    "t_start = time()\n",
    "X100 = getx(face_filenames100)\n",
    "time() - t_start"
   ]
  },
  {
   "cell_type": "code",
   "execution_count": 45,
   "metadata": {},
   "outputs": [],
   "source": [
    "y = np.array([1] * n + [0] * n)"
   ]
  },
  {
   "cell_type": "code",
   "execution_count": 64,
   "metadata": {},
   "outputs": [],
   "source": [
    "dill.dump_session('notebook_env.db')"
   ]
  },
  {
   "cell_type": "markdown",
   "metadata": {},
   "source": [
    "# Classification"
   ]
  },
  {
   "cell_type": "code",
   "execution_count": 46,
   "metadata": {},
   "outputs": [
    {
     "data": {
      "text/plain": [
       "13.200968980789185"
      ]
     },
     "execution_count": 46,
     "metadata": {},
     "output_type": "execute_result"
    }
   ],
   "source": [
    "# Train a random forest classifier and assess its performance\n",
    "clf = RandomForestClassifier(n_estimators=1000, max_depth=None,\n",
    "                             n_jobs=-1, random_state=0)\n",
    "t_start = time()\n",
    "clf.fit(X, y)\n",
    "time() - t_start"
   ]
  },
  {
   "cell_type": "code",
   "execution_count": 8,
   "metadata": {},
   "outputs": [],
   "source": [
    "y_t = [1]*len(faces_t) + [0]*len(nonfaces_t)"
   ]
  },
  {
   "cell_type": "code",
   "execution_count": 68,
   "metadata": {},
   "outputs": [
    {
     "name": "stdout",
     "output_type": "stream",
     "text": [
      "0.9416666666666667\n"
     ]
    }
   ],
   "source": [
    "print(clf.score(X_t,y_t))"
   ]
  },
  {
   "cell_type": "markdown",
   "metadata": {},
   "source": [
    "### 0%"
   ]
  },
  {
   "cell_type": "code",
   "execution_count": 6,
   "metadata": {},
   "outputs": [
    {
     "data": {
      "text/plain": [
       "45.04568600654602"
      ]
     },
     "execution_count": 6,
     "metadata": {},
     "output_type": "execute_result"
    }
   ],
   "source": [
    "# Train a random forest classifier and assess its performance\n",
    "rf0 = RandomForestClassifier(n_estimators=1000, max_depth=None,\n",
    "                             n_jobs=-1, random_state=0)\n",
    "t_start = time()\n",
    "rf0.fit(X0, y)\n",
    "time() - t_start"
   ]
  },
  {
   "cell_type": "code",
   "execution_count": 9,
   "metadata": {},
   "outputs": [
    {
     "name": "stdout",
     "output_type": "stream",
     "text": [
      "0.94\n"
     ]
    }
   ],
   "source": [
    "print(rf0.score(X_t,y_t))"
   ]
  },
  {
   "cell_type": "markdown",
   "metadata": {},
   "source": [
    "### 25%"
   ]
  },
  {
   "cell_type": "code",
   "execution_count": 10,
   "metadata": {},
   "outputs": [
    {
     "data": {
      "text/plain": [
       "45.97716307640076"
      ]
     },
     "execution_count": 10,
     "metadata": {},
     "output_type": "execute_result"
    }
   ],
   "source": [
    "# Train a random forest classifier and assess its performance\n",
    "rf25 = RandomForestClassifier(n_estimators=1000, max_depth=None,\n",
    "                             n_jobs=-1, random_state=0)\n",
    "t_start = time()\n",
    "rf25.fit(X25, y)\n",
    "time() - t_start"
   ]
  },
  {
   "cell_type": "code",
   "execution_count": 11,
   "metadata": {},
   "outputs": [
    {
     "name": "stdout",
     "output_type": "stream",
     "text": [
      "0.94\n"
     ]
    }
   ],
   "source": [
    "print(rf25.score(X_t,y_t))"
   ]
  },
  {
   "cell_type": "markdown",
   "metadata": {},
   "source": [
    "### 50%"
   ]
  },
  {
   "cell_type": "code",
   "execution_count": 12,
   "metadata": {},
   "outputs": [
    {
     "data": {
      "text/plain": [
       "49.857863903045654"
      ]
     },
     "execution_count": 12,
     "metadata": {},
     "output_type": "execute_result"
    }
   ],
   "source": [
    "# Train a random forest classifier and assess its performance\n",
    "rf50 = RandomForestClassifier(n_estimators=1000, max_depth=None,\n",
    "                             n_jobs=-1, random_state=0)\n",
    "t_start = time()\n",
    "rf50.fit(X50, y)\n",
    "time() - t_start"
   ]
  },
  {
   "cell_type": "code",
   "execution_count": 13,
   "metadata": {},
   "outputs": [
    {
     "name": "stdout",
     "output_type": "stream",
     "text": [
      "0.9516666666666667\n"
     ]
    }
   ],
   "source": [
    "print(rf50.score(X_t,y_t))"
   ]
  },
  {
   "cell_type": "markdown",
   "metadata": {},
   "source": [
    "### 75%"
   ]
  },
  {
   "cell_type": "code",
   "execution_count": 14,
   "metadata": {},
   "outputs": [
    {
     "data": {
      "text/plain": [
       "53.63540506362915"
      ]
     },
     "execution_count": 14,
     "metadata": {},
     "output_type": "execute_result"
    }
   ],
   "source": [
    "# Train a random forest classifier and assess its performance\n",
    "rf75 = RandomForestClassifier(n_estimators=1000, max_depth=None,\n",
    "                             n_jobs=-1, random_state=0)\n",
    "t_start = time()\n",
    "rf75.fit(X75, y)\n",
    "time() - t_start"
   ]
  },
  {
   "cell_type": "code",
   "execution_count": 15,
   "metadata": {},
   "outputs": [
    {
     "name": "stdout",
     "output_type": "stream",
     "text": [
      "0.965\n"
     ]
    }
   ],
   "source": [
    "print(rf75.score(X_t,y_t))"
   ]
  },
  {
   "cell_type": "markdown",
   "metadata": {},
   "source": [
    "### 100%"
   ]
  },
  {
   "cell_type": "code",
   "execution_count": 16,
   "metadata": {},
   "outputs": [
    {
     "data": {
      "text/plain": [
       "50.28110694885254"
      ]
     },
     "execution_count": 16,
     "metadata": {},
     "output_type": "execute_result"
    }
   ],
   "source": [
    "# Train a random forest classifier and assess its performance\n",
    "rf100 = RandomForestClassifier(n_estimators=1000, max_depth=None,\n",
    "                             n_jobs=-1, random_state=0)\n",
    "t_start = time()\n",
    "rf100.fit(X100, y)\n",
    "time() - t_start"
   ]
  },
  {
   "cell_type": "code",
   "execution_count": 17,
   "metadata": {},
   "outputs": [
    {
     "name": "stdout",
     "output_type": "stream",
     "text": [
      "0.9683333333333334\n"
     ]
    }
   ],
   "source": [
    "print(rf100.score(X_t,y_t))"
   ]
  },
  {
   "cell_type": "markdown",
   "metadata": {},
   "source": [
    "### Scores, separated by race"
   ]
  },
  {
   "cell_type": "code",
   "execution_count": 34,
   "metadata": {},
   "outputs": [
    {
     "data": {
      "text/plain": [
       "((150, 430920), (150,), (150, 430920), (150,))"
      ]
     },
     "execution_count": 34,
     "metadata": {},
     "output_type": "execute_result"
    }
   ],
   "source": [
    "# use b_inds and w_inds to select rows of X_t and y_t\n",
    "Xb_t = X_t[b_inds]\n",
    "yb_t = y_t[b_inds]\n",
    "Xw_t = X_t[w_inds]\n",
    "yw_t = y_t[w_inds]\n",
    "Xb_t.shape, yb_t.shape, Xw_t.shape, yw_t.shape"
   ]
  },
  {
   "cell_type": "code",
   "execution_count": 39,
   "metadata": {},
   "outputs": [
    {
     "name": "stdout",
     "output_type": "stream",
     "text": [
      "0\n",
      "black: 0.8066666666666666\n",
      "white: 0.9733333333333334\n",
      "25\n",
      "black: 0.8333333333333334\n",
      "white: 0.9466666666666667\n",
      "50\n",
      "black: 0.86\n",
      "white: 0.9666666666666667\n",
      "75\n",
      "black: 0.9066666666666666\n",
      "white: 0.9866666666666667\n",
      "100\n",
      "black: 0.92\n",
      "white: 0.9866666666666667\n"
     ]
    }
   ],
   "source": [
    "rfs = [rf0, rf25, rf50, rf75, rf100]\n",
    "for i in range(len(rfs)):\n",
    "    print(i*25)\n",
    "    print(\"black:\", rfs[i].score(Xb_t, yb_t))\n",
    "    print(\"white:\", rfs[i].score(Xw_t, yw_t))"
   ]
  },
  {
   "cell_type": "markdown",
   "metadata": {},
   "source": [
    "## Logistic"
   ]
  },
  {
   "cell_type": "code",
   "execution_count": null,
   "metadata": {},
   "outputs": [
    {
     "name": "stderr",
     "output_type": "stream",
     "text": [
      "/anaconda2/envs/cos429/lib/python3.7/site-packages/sklearn/linear_model/logistic.py:432: FutureWarning: Default solver will be changed to 'lbfgs' in 0.22. Specify a solver to silence this warning.\n",
      "  FutureWarning)\n"
     ]
    }
   ],
   "source": [
    "t_start = time()\n",
    "lr0 = LogisticRegression().fit(X0, y)\n",
    "time() - t_start"
   ]
  },
  {
   "cell_type": "code",
   "execution_count": null,
   "metadata": {},
   "outputs": [],
   "source": [
    "t_start = time()\n",
    "score0 = lr0.score(X_t, y_t)\n",
    "time() - t_start\n",
    "score0"
   ]
  },
  {
   "cell_type": "code",
   "execution_count": null,
   "metadata": {},
   "outputs": [],
   "source": []
  },
  {
   "cell_type": "markdown",
   "metadata": {},
   "source": [
    "## Top Features"
   ]
  },
  {
   "cell_type": "code",
   "execution_count": null,
   "metadata": {},
   "outputs": [],
   "source": [
    "images = np.array(images)\n",
    "# Extract all possible features\n",
    "feature_coord, feature_type = \\\n",
    "    haar_like_feature_coord(width=images.shape[2], height=images.shape[1],\n",
    "                            feature_type=feature_types)"
   ]
  },
  {
   "cell_type": "code",
   "execution_count": null,
   "metadata": {},
   "outputs": [],
   "source": [
    "auc_full_features = roc_auc_score(y_test, clf.predict_proba(X_test)[:, 1])\n",
    "\n",
    "# Sort features in order of importance and plot the six most significant\n",
    "idx_sorted = np.argsort(clf.feature_importances_)[::-1]"
   ]
  },
  {
   "cell_type": "code",
   "execution_count": null,
   "metadata": {},
   "outputs": [],
   "source": [
    "fig, axes = plt.subplots(3, 2)\n",
    "for idx, ax in enumerate(axes.ravel()):\n",
    "    image = images[0]\n",
    "    image = draw_haar_like_feature(image, 0, 0,\n",
    "                                   images.shape[2],\n",
    "                                   images.shape[1],\n",
    "                                   [feature_coord[idx_sorted[idx]]])\n",
    "    ax.imshow(image)\n",
    "    ax.set_xticks([])\n",
    "    ax.set_yticks([])\n",
    "\n",
    "fig.suptitle('The most important features')"
   ]
  },
  {
   "cell_type": "code",
   "execution_count": null,
   "metadata": {},
   "outputs": [],
   "source": []
  }
 ],
 "metadata": {
  "kernelspec": {
   "display_name": "Python [conda env:cos429] *",
   "language": "python",
   "name": "conda-env-cos429-py"
  },
  "language_info": {
   "codemirror_mode": {
    "name": "ipython",
    "version": 3
   },
   "file_extension": ".py",
   "mimetype": "text/x-python",
   "name": "python",
   "nbconvert_exporter": "python",
   "pygments_lexer": "ipython3",
   "version": "3.7.4"
  }
 },
 "nbformat": 4,
 "nbformat_minor": 2
}
